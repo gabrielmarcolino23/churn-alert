{
 "cells": [
  {
   "cell_type": "code",
   "execution_count": null,
   "metadata": {},
   "outputs": [],
   "source": [
    "# Importar as bibliotecas necessárias\n",
    "import pandas as pd\n",
    "import numpy as np\n",
    "import matplotlib.pyplot as plt\n",
    "import seaborn as sns\n",
    "\n",
    "# Configurar estilo dos gráficos\n",
    "sns.set(style=\"whitegrid\")\n"
   ]
  },
  {
   "cell_type": "code",
   "execution_count": null,
   "metadata": {},
   "outputs": [],
   "source": [
    "# Carregar o conjunto de dados\n",
    "df = pd.read_csv('seu_arquivo.csv')  # Substitua 'seu_arquivo.csv' pelo nome do seu arquivo\n",
    "\n",
    "# Visualizar as primeiras linhas do DataFrame\n",
    "df.head()\n"
   ]
  },
  {
   "cell_type": "code",
   "execution_count": null,
   "metadata": {},
   "outputs": [],
   "source": [
    "# Manter uma cópia do DataFrame original para comparação posterior\n",
    "df_original = df.copy()\n"
   ]
  },
  {
   "cell_type": "code",
   "execution_count": null,
   "metadata": {},
   "outputs": [],
   "source": [
    "# Listar as colunas numéricas que deseja verificar\n",
    "colunas_numericas = ['coluna1', 'coluna2', 'coluna3']  # Substitua pelos nomes das suas colunas numéricas\n",
    "\n",
    "# Verificar se as colunas existem no DataFrame\n",
    "for coluna in colunas_numericas:\n",
    "    if coluna not in df.columns:\n",
    "        print(f'A coluna {coluna} não existe no DataFrame.')\n"
   ]
  },
  {
   "cell_type": "code",
   "execution_count": null,
   "metadata": {},
   "outputs": [],
   "source": [
    "# Função para identificar e tratar outliers usando o método IQR\n",
    "def tratar_outliers(df, coluna):\n",
    "    # Calcular Q1, Q3 e IQR\n",
    "    Q1 = df[coluna].quantile(0.25)\n",
    "    Q3 = df[coluna].quantile(0.75)\n",
    "    IQR = Q3 - Q1\n",
    "    limite_inferior = Q1 - 1.5 * IQR\n",
    "    limite_superior = Q3 + 1.5 * IQR\n",
    "\n",
    "    # Identificar outliers\n",
    "    outliers = df[(df[coluna] < limite_inferior) | (df[coluna] > limite_superior)]\n",
    "    print(f'Número de outliers na coluna \"{coluna}\": {outliers.shape[0]}')\n",
    "\n",
    "    # Tratar outliers substituindo pelos limites (Winsorização)\n",
    "    df[coluna] = np.where(df[coluna] < limite_inferior, limite_inferior, df[coluna])\n",
    "    df[coluna] = np.where(df[coluna] > limite_superior, limite_superior, df[coluna])\n",
    "\n",
    "    return df\n"
   ]
  },
  {
   "cell_type": "code",
   "execution_count": null,
   "metadata": {},
   "outputs": [],
   "source": [
    "# Aplicar a função de tratamento de outliers em cada coluna numérica\n",
    "for coluna in colunas_numericas:\n",
    "    df = tratar_outliers(df, coluna)"
   ]
  },
  {
   "cell_type": "code",
   "execution_count": null,
   "metadata": {},
   "outputs": [],
   "source": [
    "# Visualizar gráficos antes e depois do tratamento para cada coluna\n",
    "for coluna in colunas_numericas:\n",
    "    fig, axes = plt.subplots(1, 2, figsize=(12, 5))\n",
    "\n",
    "    # Boxplot antes do tratamento\n",
    "    sns.boxplot(ax=axes[0], data=df_original[coluna], color='skyblue')\n",
    "    axes[0].set_title(f'{coluna} - Antes do Tratamento')\n",
    "\n",
    "    # Boxplot depois do tratamento\n",
    "    sns.boxplot(ax=axes[1], data=df[coluna], color='lightblue')\n",
    "    axes[1].set_title(f'{coluna} - Depois do Tratamento')\n",
    "\n",
    "    plt.show()\n"
   ]
  },
  {
   "cell_type": "code",
   "execution_count": null,
   "metadata": {},
   "outputs": [],
   "source": [
    "# Visualizar histogramas para verificar a distribuição após o tratamento\n",
    "for coluna in colunas_numericas:\n",
    "    plt.figure(figsize=(8, 4))\n",
    "    sns.histplot(df[coluna], kde=True, color='purple')\n",
    "    plt.title(f'Distribuição da {coluna} Após o Tratamento')\n",
    "    plt.xlabel(coluna)\n",
    "    plt.ylabel('Frequência')\n",
    "    plt.show()\n"
   ]
  }
 ],
 "metadata": {
  "kernelspec": {
   "display_name": "venv",
   "language": "python",
   "name": "python3"
  },
  "language_info": {
   "name": "python",
   "version": "3.12.7"
  }
 },
 "nbformat": 4,
 "nbformat_minor": 2
}
